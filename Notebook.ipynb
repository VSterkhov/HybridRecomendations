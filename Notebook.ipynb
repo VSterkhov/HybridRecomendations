{
 "cells": [
  {
   "cell_type": "markdown",
   "id": "6180f65e-a1ba-4ec4-9c79-b181fc98a39d",
   "metadata": {},
   "source": [
    "Загрузим датасет и основные компоненты"
   ]
  },
  {
   "cell_type": "code",
   "execution_count": 1,
   "id": "8d998ccd-f6fb-43e2-ba57-3f733750dd82",
   "metadata": {},
   "outputs": [],
   "source": [
    "from surprise import accuracy, Dataset, SVDpp, SVD\n",
    "import pandas as pd\n",
    "import numpy as np\n",
    "from surprise.model_selection import train_test_split\n",
    "\n",
    "data = Dataset.load_builtin('ml-100k')\n",
    "dataset = pd.DataFrame(data.raw_ratings, columns = ['iid', 'uid', 'rating', 'timestamp'])\n",
    "\n",
    "trainset, testset = train_test_split(data, test_size=0.2)"
   ]
  },
  {
   "cell_type": "markdown",
   "id": "e8e0dd05-81f1-4618-ac84-dd0c317fa552",
   "metadata": {},
   "source": [
    "Далее создадим гибридную рекомендательную систему на основе блендинга (взвешивания) двух моделей SVD и SVD++"
   ]
  },
  {
   "cell_type": "code",
   "execution_count": 2,
   "id": "8a459f26-dcee-4687-9bce-7ffcfa1cacd9",
   "metadata": {},
   "outputs": [
    {
     "name": "stdout",
     "output_type": "stream",
     "text": [
      "RMSE: 0.9182\n",
      "0.9181634920064818\n"
     ]
    }
   ],
   "source": [
    "pp = SVDpp()\n",
    "pp.fit(trainset)\n",
    "test_pred = pp.test(testset)\n",
    "print(accuracy.rmse(test_pred, verbose=True))"
   ]
  },
  {
   "cell_type": "code",
   "execution_count": 3,
   "id": "7f6a93df-c92d-4b45-b591-cbdb431c9c22",
   "metadata": {},
   "outputs": [
    {
     "name": "stdout",
     "output_type": "stream",
     "text": [
      "RMSE: 0.9396\n",
      "0.939577289292495\n"
     ]
    }
   ],
   "source": [
    "svd = SVD()\n",
    "svd.fit(trainset)    \n",
    "test_pred = svd.test(testset)\n",
    "print(accuracy.rmse(test_pred, verbose=True))"
   ]
  },
  {
   "cell_type": "markdown",
   "id": "88c08f78-e59d-4202-b946-19165eaa93e0",
   "metadata": {},
   "source": [
    "Определим идентификатор фильма \"Бойцовский клуб 1999г\""
   ]
  },
  {
   "cell_type": "code",
   "execution_count": 4,
   "id": "d0930983-1a88-4342-a1c4-47875a72baeb",
   "metadata": {},
   "outputs": [],
   "source": [
    "movies = pd.read_csv('data/movies.csv')\n",
    "movieID = int(movies[movies.title == 'Fight Club (1999)'].movieId)"
   ]
  },
  {
   "cell_type": "markdown",
   "id": "0be0ffb2-e5e0-4a6a-9e0b-d5ee3f4a359d",
   "metadata": {},
   "source": [
    "Выведем гибридные результаты. Сумму рейтингов умноженную на вес модели. Вес 0.6 для SVD++ и 0.4 для SVD."
   ]
  },
  {
   "cell_type": "code",
   "execution_count": 5,
   "id": "d8c59818-f155-4f52-8f43-81c4a6187c89",
   "metadata": {},
   "outputs": [
    {
     "name": "stdout",
     "output_type": "stream",
     "text": [
      "3.5298375\n"
     ]
    }
   ],
   "source": [
    "print(pp.predict(294, movieID).est*0.6+svd.predict(294, movieID).est*0.4)"
   ]
  },
  {
   "cell_type": "markdown",
   "id": "cea8cfaa-59c3-4012-8e74-2ca2ad34f818",
   "metadata": {},
   "source": [
    "Далее выведем результаты подбора рекомендаций для обеих моделей"
   ]
  },
  {
   "cell_type": "code",
   "execution_count": 6,
   "id": "1213786f-2e3e-4766-b3bc-61d641dc19d2",
   "metadata": {},
   "outputs": [
    {
     "name": "stdout",
     "output_type": "stream",
     "text": [
      "[('474', 4.31), ('14', 4.07), ('198', 4.13), ('83', 4.17), ('211', 4.07)]\n",
      "[('180', 4.05), ('60', 4.01), ('611', 4.03), ('474', 4.19), ('98', 4.18)]\n"
     ]
    }
   ],
   "source": [
    "def generate_recommendation(uid, model, dataset, thresh=4.0, amount=5):\n",
    "    all_titles = list(dataset['iid'].values)\n",
    "    users_seen_titles = dataset[dataset['uid'] == uid]['iid']\n",
    "    titles = np.array(list(set(all_titles) - set(users_seen_titles)))\n",
    "\n",
    "    np.random.shuffle(titles)\n",
    "    \n",
    "    rec_list = []\n",
    "    for title in titles:\n",
    "        review_prediction = model.predict(uid=uid, iid=title)\n",
    "       \n",
    "        rating = review_prediction.est\n",
    "\n",
    "        if rating >= thresh:\n",
    "            rec_list.append((title, round(rating, 2)))\n",
    "            \n",
    "            if len(rec_list) >= amount:\n",
    "                return rec_list\n",
    "            \n",
    "            \n",
    "print(generate_recommendation(294, svd, dataset))         \n",
    "print(generate_recommendation(294, pp, dataset))   "
   ]
  },
  {
   "cell_type": "code",
   "execution_count": null,
   "id": "46a95dc6-31e8-4fce-9fe4-778be12feefe",
   "metadata": {},
   "outputs": [],
   "source": [
    "В списках видно, что рекомендации отличаются, можно выбрать наилучшие рейтинги"
   ]
  }
 ],
 "metadata": {
  "kernelspec": {
   "display_name": "Python 3 (ipykernel)",
   "language": "python",
   "name": "python3"
  },
  "language_info": {
   "codemirror_mode": {
    "name": "ipython",
    "version": 3
   },
   "file_extension": ".py",
   "mimetype": "text/x-python",
   "name": "python",
   "nbconvert_exporter": "python",
   "pygments_lexer": "ipython3",
   "version": "3.9.13"
  }
 },
 "nbformat": 4,
 "nbformat_minor": 5
}
